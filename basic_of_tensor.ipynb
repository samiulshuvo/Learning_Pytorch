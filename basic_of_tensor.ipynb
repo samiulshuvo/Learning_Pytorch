{
 "cells": [
  {
   "cell_type": "code",
   "execution_count": 6,
   "metadata": {},
   "outputs": [
    {
     "name": "stdout",
     "output_type": "stream",
     "text": [
      "tensor([[-2.7725e-21,  4.5895e-41],\n",
      "        [-7.7053e-35,  3.0644e-41],\n",
      "        [ 0.0000e+00,  0.0000e+00]])\n"
     ]
    },
    {
     "data": {
      "text/plain": [
       "torch.Size([3, 2])"
      ]
     },
     "execution_count": 6,
     "metadata": {},
     "output_type": "execute_result"
    }
   ],
   "source": [
    "import torch \n",
    "x=torch.empty(3,2)\n",
    "print(x)\n",
    "x.shape"
   ]
  },
  {
   "cell_type": "code",
   "execution_count": 9,
   "metadata": {},
   "outputs": [
    {
     "name": "stdout",
     "output_type": "stream",
     "text": [
      "tensor([[0.5163, 0.6662, 0.3572],\n",
      "        [0.9209, 0.9972, 0.0017]])\n",
      "torch.float32\n"
     ]
    }
   ],
   "source": [
    "x_rand=torch.rand(2,3)\n",
    "print(x_rand)\n",
    "print(x_rand.dtype)"
   ]
  },
  {
   "cell_type": "code",
   "execution_count": 11,
   "metadata": {},
   "outputs": [
    {
     "name": "stdout",
     "output_type": "stream",
     "text": [
      "torch.float16\n"
     ]
    }
   ],
   "source": [
    "x_dt=torch.ones(2,2,dtype=torch.float16)\n",
    "print(x_dt.dtype)"
   ]
  },
  {
   "cell_type": "code",
   "execution_count": 12,
   "metadata": {},
   "outputs": [
    {
     "name": "stdout",
     "output_type": "stream",
     "text": [
      "tensor([[0.7399, 1.7881],\n",
      "        [0.7786, 1.3155]])\n"
     ]
    }
   ],
   "source": [
    "x=torch.rand(2,2)\n",
    "y=torch.rand(2,2)\n",
    "print(x+y)"
   ]
  },
  {
   "cell_type": "code",
   "execution_count": 14,
   "metadata": {},
   "outputs": [
    {
     "data": {
      "text/plain": [
       "tensor([[1.3756, 2.6697],\n",
       "        [1.4816, 1.8891]])"
      ]
     },
     "execution_count": 14,
     "metadata": {},
     "output_type": "execute_result"
    }
   ],
   "source": [
    "y.add_(x)## _ means in place operation"
   ]
  },
  {
   "cell_type": "code",
   "execution_count": 16,
   "metadata": {},
   "outputs": [
    {
     "data": {
      "text/plain": [
       "tensor([[0.4621, 0.3302],\n",
       "        [0.4745, 0.3036]])"
      ]
     },
     "execution_count": 16,
     "metadata": {},
     "output_type": "execute_result"
    }
   ],
   "source": [
    "torch.subtract(x,y)\n",
    "torch.mul(x,y)\n",
    "torch.div(x,y)"
   ]
  },
  {
   "cell_type": "code",
   "execution_count": 17,
   "metadata": {},
   "outputs": [
    {
     "name": "stdout",
     "output_type": "stream",
     "text": [
      "tensor([[0.6952, 0.6693, 0.4393],\n",
      "        [0.3997, 0.0474, 0.9590],\n",
      "        [0.0713, 0.1092, 0.1300],\n",
      "        [0.0143, 0.2588, 0.5623],\n",
      "        [0.4019, 0.8602, 0.2614]])\n"
     ]
    }
   ],
   "source": [
    "x_slice=torch.rand(5,3)\n",
    "print(x_slice)"
   ]
  },
  {
   "cell_type": "code",
   "execution_count": 18,
   "metadata": {},
   "outputs": [
    {
     "data": {
      "text/plain": [
       "tensor([0.6693, 0.0474, 0.1092, 0.2588, 0.8602])"
      ]
     },
     "execution_count": 18,
     "metadata": {},
     "output_type": "execute_result"
    }
   ],
   "source": [
    "x_slice[:,1] ## slicing like numpy array "
   ]
  },
  {
   "cell_type": "code",
   "execution_count": 20,
   "metadata": {},
   "outputs": [
    {
     "data": {
      "text/plain": [
       "tensor([[0.6952, 0.6693, 0.4393, 0.3997, 0.0474],\n",
       "        [0.9590, 0.0713, 0.1092, 0.1300, 0.0143],\n",
       "        [0.2588, 0.5623, 0.4019, 0.8602, 0.2614]])"
      ]
     },
     "execution_count": 20,
     "metadata": {},
     "output_type": "execute_result"
    }
   ],
   "source": [
    "x_slice.reshape(3,5)"
   ]
  },
  {
   "cell_type": "code",
   "execution_count": 21,
   "metadata": {},
   "outputs": [
    {
     "data": {
      "text/plain": [
       "tensor([0.6952, 0.6693, 0.4393, 0.3997, 0.0474, 0.9590, 0.0713, 0.1092, 0.1300,\n",
       "        0.0143, 0.2588, 0.5623, 0.4019, 0.8602, 0.2614])"
      ]
     },
     "execution_count": 21,
     "metadata": {},
     "output_type": "execute_result"
    }
   ],
   "source": [
    "x_slice.reshape(15,)"
   ]
  },
  {
   "cell_type": "code",
   "execution_count": 22,
   "metadata": {},
   "outputs": [
    {
     "data": {
      "text/plain": [
       "tensor([[0.6952, 0.6693, 0.4393, 0.3997, 0.0474],\n",
       "        [0.9590, 0.0713, 0.1092, 0.1300, 0.0143],\n",
       "        [0.2588, 0.5623, 0.4019, 0.8602, 0.2614]])"
      ]
     },
     "execution_count": 22,
     "metadata": {},
     "output_type": "execute_result"
    }
   ],
   "source": [
    "x_slice.view(3,-1)"
   ]
  },
  {
   "cell_type": "code",
   "execution_count": 23,
   "metadata": {},
   "outputs": [],
   "source": [
    "import numpy as np"
   ]
  },
  {
   "cell_type": "code",
   "execution_count": 26,
   "metadata": {},
   "outputs": [],
   "source": [
    "numpy_array=np.ones([3,2])"
   ]
  },
  {
   "cell_type": "code",
   "execution_count": 30,
   "metadata": {},
   "outputs": [],
   "source": [
    "numpytotorch=torch.tensor(numpy_array,dtype=torch.int32)"
   ]
  },
  {
   "cell_type": "code",
   "execution_count": 31,
   "metadata": {},
   "outputs": [
    {
     "data": {
      "text/plain": [
       "array([[1, 1],\n",
       "       [1, 1],\n",
       "       [1, 1]], dtype=int32)"
      ]
     },
     "execution_count": 31,
     "metadata": {},
     "output_type": "execute_result"
    }
   ],
   "source": [
    "np.asarray(numpytotorch)"
   ]
  },
  {
   "cell_type": "code",
   "execution_count": 32,
   "metadata": {},
   "outputs": [
    {
     "data": {
      "text/plain": [
       "array([[1, 1],\n",
       "       [1, 1],\n",
       "       [1, 1]], dtype=int32)"
      ]
     },
     "execution_count": 32,
     "metadata": {},
     "output_type": "execute_result"
    }
   ],
   "source": [
    "numpytotorch.numpy()"
   ]
  },
  {
   "cell_type": "code",
   "execution_count": 34,
   "metadata": {},
   "outputs": [
    {
     "data": {
      "text/plain": [
       "tensor([[1., 1.],\n",
       "        [1., 1.],\n",
       "        [1., 1.]], dtype=torch.float64)"
      ]
     },
     "execution_count": 34,
     "metadata": {},
     "output_type": "execute_result"
    }
   ],
   "source": [
    "torch.from_numpy(numpy_array)"
   ]
  },
  {
   "cell_type": "code",
   "execution_count": 35,
   "metadata": {},
   "outputs": [],
   "source": [
    "## bynoy can only handle cpu not the gpu if you want to convert a \n",
    "## tensor(gpu) to numpy then you have to convert/move it to cpu first\n",
    "\n",
    "tensor1=torch.empty(3,6)"
   ]
  },
  {
   "cell_type": "code",
   "execution_count": 43,
   "metadata": {},
   "outputs": [
    {
     "name": "stdout",
     "output_type": "stream",
     "text": [
      "cuda\n",
      "cuda:0\n"
     ]
    }
   ],
   "source": [
    "# how to push tensor1 to gpu\n",
    "if torch.cuda.is_available():\n",
    "    device=torch.device(\"cuda\")\n",
    "    print(device)\n",
    "    tensorG=tensor1.to(device)\n",
    "    print(tensorG.device)"
   ]
  },
  {
   "cell_type": "code",
   "execution_count": 40,
   "metadata": {},
   "outputs": [],
   "source": [
    "if torch.cuda.is_available():\n",
    "    device=torch.device('cuda')\n",
    "    x=torch.ones(2,3,device=device)\n",
    "    x.to('cpu')"
   ]
  },
  {
   "cell_type": "code",
   "execution_count": 41,
   "metadata": {},
   "outputs": [],
   "source": [
    "# to tell pytorch that the declared tensor need to calculate the gradient \n",
    "## during the optimization phase i have to mention that requires_grad=True\n",
    "x=torch.ones(3,2,requires_grad=True)"
   ]
  },
  {
   "cell_type": "code",
   "execution_count": 46,
   "metadata": {},
   "outputs": [
    {
     "data": {
      "text/plain": [
       "tensor([3., 3.], device='cuda:0', dtype=torch.float16, requires_grad=True)"
      ]
     },
     "execution_count": 46,
     "metadata": {},
     "output_type": "execute_result"
    }
   ],
   "source": [
    "torch.tensor([3,3],dtype=torch.float16,device=torch.device('cuda'),requires_grad=True)"
   ]
  },
  {
   "cell_type": "code",
   "execution_count": 47,
   "metadata": {},
   "outputs": [
    {
     "name": "stdout",
     "output_type": "stream",
     "text": [
      "tensor(-2.)\n"
     ]
    }
   ],
   "source": [
    "# backpropagation \n",
    "# first we need to know chain rule\n",
    "# dz/dx= dz/dy*dy/dx\n",
    "# next conceps computational graph\n",
    "#  linear regression\n",
    "#  loss=()\n",
    "\n",
    " ## \n",
    "import torch\n",
    "x=torch.tensor(1.0)\n",
    "y=torch.tensor(2.0)\n",
    "w=torch.tensor(1.0,requires_grad=True)\n",
    "y_hat=x*w\n",
    "loss=(y_hat-y)**2## forward pass \n",
    "loss.backward()## do the local gradient and backward pass \n",
    "print(w.grad)## update the weight according to the gradient "
   ]
  },
  {
   "cell_type": "code",
   "execution_count": 55,
   "metadata": {},
   "outputs": [
    {
     "name": "stdout",
     "output_type": "stream",
     "text": [
      "epoch1:w=1.200,loss=30.00000000\n",
      "epoch3:w=1.872,loss=0.76953125\n",
      "epoch5:w=1.980,loss=0.02015686\n",
      "epoch7:w=1.997,loss=0.00045776\n",
      "epoch9:w=2.000,loss=0.00003529\n",
      "epoch11:w=2.000,loss=0.00000000\n",
      "epoch13:w=2.000,loss=0.00000000\n",
      "epoch15:w=2.000,loss=0.00000000\n",
      "epoch17:w=2.000,loss=0.00000000\n",
      "epoch19:w=2.000,loss=0.00000000\n",
      "epoch21:w=2.000,loss=0.00000000\n",
      "epoch23:w=2.000,loss=0.00000000\n",
      "epoch25:w=2.000,loss=0.00000000\n",
      "epoch27:w=2.000,loss=0.00000000\n",
      "epoch29:w=2.000,loss=0.00000000\n",
      "prediction after training:f(5)=9.999\n"
     ]
    }
   ],
   "source": [
    "## implementation of neural network in numpy \n",
    "import numpy as np\n",
    "# f=w*x\n",
    "x=np.array([1,2,3,4],dtype=np.float16)\n",
    "y=np.array([2,4,6,8],dtype=np.float16)\n",
    "w=0\n",
    "\n",
    "# MSE=1/N(w*x-y)**2\n",
    "# dMSE/dw=1/N(w*x)\n",
    "\n",
    "def forward(x):\n",
    "    return w*x\n",
    "\n",
    "def loss(y,y_predicted):\n",
    "    return ((y-y_predicted)**2).mean()\n",
    "\n",
    "def gradient(x,y,y_pred):\n",
    "    return np.dot(2*x,(y_pred-y)).mean()\n",
    "\n",
    "learning_rate=.01\n",
    "n_iter=30\n",
    "\n",
    "for epoch in range(n_iter):\n",
    "    y_prediction = forward(x)\n",
    "    l= loss(y,y_prediction)\n",
    "    dw = gradient(x,y,y_prediction)\n",
    "    w -= learning_rate*dw\n",
    "    if epoch%2==0:\n",
    "        print(f'epoch{epoch+1}:w={w:.3f},loss={l:.8f}')\n",
    "\n",
    "print(f'prediction after training:f(5)={forward(5):.3f}')\n",
    "\n"
   ]
  },
  {
   "cell_type": "code",
   "execution_count": 53,
   "metadata": {},
   "outputs": [
    {
     "name": "stdout",
     "output_type": "stream",
     "text": [
      "Prediction before training: f(5) = 0.000\n",
      "epoch 1: w = 1.200, loss = 30.00000000\n",
      "epoch 3: w = 1.872, loss = 0.76800019\n",
      "epoch 5: w = 1.980, loss = 0.01966083\n",
      "epoch 7: w = 1.997, loss = 0.00050331\n",
      "epoch 9: w = 1.999, loss = 0.00001288\n",
      "epoch 11: w = 2.000, loss = 0.00000033\n",
      "epoch 13: w = 2.000, loss = 0.00000001\n",
      "epoch 15: w = 2.000, loss = 0.00000000\n",
      "epoch 17: w = 2.000, loss = 0.00000000\n",
      "epoch 19: w = 2.000, loss = 0.00000000\n",
      "Prediction after training: f(5) = 10.000\n"
     ]
    }
   ],
   "source": [
    "import numpy as np \n",
    "\n",
    "# Compute every step manually\n",
    "\n",
    "# Linear regression\n",
    "# f = w * x \n",
    "\n",
    "# here : f = 2 * x\n",
    "X = np.array([1, 2, 3, 4], dtype=np.float32)\n",
    "Y = np.array([2, 4, 6, 8], dtype=np.float32)\n",
    "\n",
    "w = 0.0\n",
    "\n",
    "# model output\n",
    "def forward(x):\n",
    "    return w * x\n",
    "\n",
    "# loss = MSE\n",
    "def loss(y, y_pred):\n",
    "    return ((y_pred - y)**2).mean()\n",
    "\n",
    "# J = MSE = 1/N * (w*x - y)**2\n",
    "# dJ/dw = 1/N * 2x(w*x - y)\n",
    "def gradient(x, y, y_pred):\n",
    "    return np.dot(2*x, y_pred - y).mean()\n",
    "\n",
    "print(f'Prediction before training: f(5) = {forward(5):.3f}')\n",
    "\n",
    "# Training\n",
    "learning_rate = 0.01\n",
    "n_iters = 20\n",
    "\n",
    "for epoch in range(n_iters):\n",
    "    # predict = forward pass\n",
    "    y_pred = forward(X)\n",
    "\n",
    "    # loss\n",
    "    l = loss(Y, y_pred)\n",
    "    \n",
    "    # calculate gradients\n",
    "    dw = gradient(X, Y, y_pred)\n",
    "\n",
    "    # update weights\n",
    "    w -= learning_rate * dw\n",
    "\n",
    "    if epoch % 2 == 0:\n",
    "        print(f'epoch {epoch+1}: w = {w:.3f}, loss = {l:.8f}')\n",
    "     \n",
    "print(f'Prediction after training: f(5) = {forward(5):.3f}')"
   ]
  },
  {
   "cell_type": "code",
   "execution_count": null,
   "metadata": {},
   "outputs": [],
   "source": []
  }
 ],
 "metadata": {
  "kernelspec": {
   "display_name": "Python 3.8.12 ('bme_ct')",
   "language": "python",
   "name": "python3"
  },
  "language_info": {
   "codemirror_mode": {
    "name": "ipython",
    "version": 3
   },
   "file_extension": ".py",
   "mimetype": "text/x-python",
   "name": "python",
   "nbconvert_exporter": "python",
   "pygments_lexer": "ipython3",
   "version": "3.8.12"
  },
  "orig_nbformat": 4,
  "vscode": {
   "interpreter": {
    "hash": "fc70de7a6e62e016cec197c1fd7fa5357eaf2521f8ae6c1c4b55646840c5ef6c"
   }
  }
 },
 "nbformat": 4,
 "nbformat_minor": 2
}
